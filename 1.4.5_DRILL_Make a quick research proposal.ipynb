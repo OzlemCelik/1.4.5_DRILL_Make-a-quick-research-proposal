{
 "cells": [
  {
   "cell_type": "markdown",
   "metadata": {},
   "source": [
    "Look back to the potential experiments in the previous assignment. For one of those experiments, write up the essential points of a research proposal for an improved version of that experiment."
   ]
  },
  {
   "cell_type": "markdown",
   "metadata": {},
   "source": [
    "<b>To prevent cheating, a teacher writes three versions of a test. She stacks the three versions together, first all copies of Version A, then all copies of Version B, then all copies of Version C. As students arrive for the exam, each student takes a test. When grading the test, the teacher finds that students who took Version B scored higher than students who took either Version A or Version C. She concludes from this that Version B is easier, and discards it"
   ]
  },
  {
   "cell_type": "markdown",
   "metadata": {},
   "source": [
    "# The Problem"
   ]
  },
  {
   "cell_type": "markdown",
   "metadata": {},
   "source": [
    "How to reduce cheating in a course?"
   ]
  },
  {
   "cell_type": "markdown",
   "metadata": {},
   "source": [
    "# The Potential Solution"
   ]
  },
  {
   "cell_type": "markdown",
   "metadata": {},
   "source": [
    "Using the same set of questions and handing the exam papers randomly will make the average score of students in all versions similar. I shall try to make the two changes and see if scores will even up "
   ]
  },
  {
   "cell_type": "markdown",
   "metadata": {},
   "source": [
    "# The Method of Testing the Solution"
   ]
  },
  {
   "cell_type": "markdown",
   "metadata": {},
   "source": [
    "Since there are 3 exams that will eventually be discarded, the teacher has a chance to experiment on the students. The two sections may contain different kinds of students like one of them may constitute many high achievers.  To prevent such a selection bias, she performs AA testing based on the first 2 assessments. Here we generally assume that students perform in a similar way from one assessment to the other on average. The average scores on version1, version2 and version3 shall be similar for both sections. It is not clear how large a difference should be in order to be acceptable, the teacher may use her own experience to compare the distributions.\n",
    "On the third assessment, applying the proposed solution, make the same questions, shuffle them and stack them randomly, then hand the exam papers. Section one is treatment group and students in section two will be given exams arranged in the old way (control group). I can repeat the experiment in the fourth and fifth assessment. \n",
    "In the control group one of the versions average score is high by a considerable amount.  For example, if version 2 is the highest, did the average score of version 2 decreased to match average scores of version 1 and 2? Repeating the experiment on the fourth and fifth assessment and checking the result is helpful to make up for the inconsistencies in students’ performance on different weeks."
   ]
  }
 ],
 "metadata": {
  "kernelspec": {
   "display_name": "Python 3",
   "language": "python",
   "name": "python3"
  },
  "language_info": {
   "codemirror_mode": {
    "name": "ipython",
    "version": 3
   },
   "file_extension": ".py",
   "mimetype": "text/x-python",
   "name": "python",
   "nbconvert_exporter": "python",
   "pygments_lexer": "ipython3",
   "version": "3.7.0"
  }
 },
 "nbformat": 4,
 "nbformat_minor": 2
}
